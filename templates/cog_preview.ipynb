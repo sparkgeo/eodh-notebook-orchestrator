{
 "cells": [
  {
   "cell_type": "code",
   "execution_count": 1,
   "id": "ef760232",
   "metadata": {},
   "outputs": [],
   "source": [
    "import rasterio\n",
    "import matplotlib.pyplot as plt"
   ]
  },
  {
   "cell_type": "code",
   "execution_count": 3,
   "id": "0c44b246",
   "metadata": {},
   "outputs": [],
   "source": [
    "with rasterio.open(cog_url) as src:\n",
    "    # Read a small overview (if available) or a small window\n",
    "    if src.overviews(1):  # Check if overviews exist\n",
    "        ovr = src.overviews(1)[-1]  # Use the lowest resolution\n",
    "        data = src.read(1, out_shape=(1, int(src.height // ovr), int(src.width // ovr)))\n",
    "    else:\n",
    "        # Read a small window (e.g., top-left 512x512 pixels)\n",
    "        data = src.read(1, window=((0, 512), (0, 512)))\n"
   ]
  },
  {
   "cell_type": "code",
   "execution_count": 4,
   "id": "77917c9f",
   "metadata": {},
   "outputs": [
    {
     "data": {
      "image/png": "[encoded data removed]",
      "text/plain": [
       "<Figure size 640x480 with 1 Axes>"
      ]
     },
     "metadata": {},
     "output_type": "display_data"
    }
   ],
   "source": [
    "plt.imshow(data, cmap=\"gray\")\n",
    "plt.title(\"COG Preview\")\n",
    "plt.axis(\"off\")\n",
    "plt.show()"
   ]
  }
 ],
 "metadata": {
  "kernelspec": {
   "display_name": ".venv",
   "language": "python",
   "name": "python3"
  },
  "language_info": {
   "codemirror_mode": {
    "name": "ipython",
    "version": 3
   },
   "file_extension": ".py",
   "mimetype": "text/x-python",
   "name": "python",
   "nbconvert_exporter": "python",
   "pygments_lexer": "ipython3",
   "version": "3.13.2"
  }
 },
 "nbformat": 4,
 "nbformat_minor": 5
}
